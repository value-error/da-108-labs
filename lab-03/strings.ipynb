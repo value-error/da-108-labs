{
 "cells": [
  {
   "cell_type": "markdown",
   "metadata": {},
   "source": [
    "# Lab 3: Data Types Basics\n",
    "DA108: Python Programming\n",
    "Author: Neeraj Sharma, IIT Guwahati\n"
   ]
  },
  {
   "cell_type": "markdown",
   "metadata": {},
   "source": [
    "# Strings\n",
    "Strings in Python serve to store text data, like names, address, DNA sequences, and so on. These qre immensely useful data types.\n",
    "They are essentially character sequences. Once they are assigned to a variable, Python keeps track of each element in the string in a specific order. For instance, Python interprets the string \"India\" as a sequence of letters arranged in a particular order. Consequently, we can utilize indexing to access specific letters, such as the first or last one.\n",
    "\n",
    "Understanding the concept of a sequence is pivotal in Python.\n",
    "In this session, we will cover the following topics:\n",
    "Creating Strings\n",
    "* Printing Strings\n",
    "* Differences in Printing between Python 2 and Python 3\n",
    "* String Indexing and Slicing\n",
    "* String Properties\n",
    "* String Methods\n",
    "* Print Formatting\n"
   ]
  },
  {
   "cell_type": "code",
   "execution_count": 3,
   "metadata": {},
   "outputs": [
    {
     "name": "stdout",
     "output_type": "stream",
     "text": [
      "Hello, World!\n",
      "Python Programming\n",
      "This is a \n",
      "multi-line string.\n",
      "It's raining outside.\n"
     ]
    }
   ],
   "source": [
    "# Creating a String\n",
    "\n",
    "my_string = \"Hello, World!\"\n",
    "another_string = 'Python Programming'\n",
    "multi_line_string = \"\"\"This is a \n",
    "multi-line string.\"\"\"\n",
    "single_quote_string = 'It\\'s raining outside.'\n",
    "\n",
    "# Printing the assigned strings\n",
    "\n",
    "print(my_string)\n",
    "print(another_string)\n",
    "print(multi_line_string)\n",
    "print(single_quote_string)\n",
    "# Error-prone assignments\n",
    "# Assigning a string with mismatched quotes\n",
    "# error_string = \"This is an error string.'\n",
    "# Uncommenting the line above will result in a SyntaxError\n"
   ]
  },
  {
   "cell_type": "code",
   "execution_count": null,
   "metadata": {},
   "outputs": [],
   "source": [
    "# Single word\n",
    "'hello'\n",
    "\n",
    "# Entire phrase \n",
    "'This is also a string'\n",
    "\n",
    "# We can also use double quote\n",
    "\"String built with double quotes\"\n",
    "\n",
    "# Be careful with quotes!\n",
    "' I'm using single quotes, but will create an error'\n",
    "\n",
    "\n",
    "\"Now I'm ready to use the single quotes inside a string!\"\n",
    "\n",
    "\"\"\"This is a string with triple qoutes\"\"\"\n",
    "\n",
    "\"\"\"The man said \"What is that going on over there!\" \"\"\"\n",
    "\n",
    "\"\"\"The man said \"What is that going on over there!\"\"\"\"\n",
    "\n",
    "'There went \"The Animal\"'\n"
   ]
  },
  {
   "cell_type": "markdown",
   "metadata": {},
   "source": [
    "# Printing a String\n",
    "In Python, strings are printed using the print() function. This function is used to display the content of strings to the console."
   ]
  },
  {
   "cell_type": "code",
   "execution_count": null,
   "metadata": {},
   "outputs": [],
   "source": [
    "print(\"DA108: Python programming!\")"
   ]
  },
  {
   "cell_type": "markdown",
   "metadata": {},
   "source": [
    "# Escape characters\n",
    "Escape characters in Python are special sequences of characters that represent other characters or add specific formatting to strings. Here are some commonly used escape characters:\n",
    "* `\\n`: Newline - Inserts a newline character.\n",
    "* `\\t`: Tab - Inserts a tab character.\n",
    "* `\\\\`: Backslash - Inserts a single backslash character.\n",
    "* `\\'`: Single Quote - Inserts a single quote character.\n",
    "* `\\\"`: Double Quote - Inserts a double quote character.\n",
    "\n",
    "These can also made part of a string!"
   ]
  },
  {
   "cell_type": "code",
   "execution_count": 2,
   "metadata": {},
   "outputs": [
    {
     "name": "stdout",
     "output_type": "stream",
     "text": [
      "Hello\n",
      "World\n",
      "Hello\tWorld\n",
      "This is a backslash: \\\n",
      "She said, \"Hello\"\n",
      "He said, 'Hi'\n",
      "I am typing in Neeraj's Python IDE\n"
     ]
    }
   ],
   "source": [
    "# Newline character\n",
    "print(\"Hello\\nWorld\")\n",
    "\n",
    "# Tab character\n",
    "print(\"Hello\\tWorld\")\n",
    "\n",
    "# Backslash character\n",
    "print(\"This is a backslash: \\\\\")\n",
    "\n",
    "# Single quote and double quote characters\n",
    "print('She said, \"Hello\"')\n",
    "print(\"He said, 'Hi'\")\n",
    "print('I am typing in Neeraj\\'s Python IDE')"
   ]
  },
  {
   "cell_type": "markdown",
   "metadata": {},
   "source": [
    "# String Basics\n",
    "* Variable assignment with a string\n",
    "* String operation: concatenation and repeatation\n",
    "* String indexing and slicing\n",
    "* String Storage\n",
    "* String Methods"
   ]
  },
  {
   "cell_type": "markdown",
   "metadata": {},
   "source": [
    "## Variable assignment with a string\n",
    "Variable assignment with a string in Python involves assigning a sequence of characters enclosed within single, double, or triple quotes to a variable."
   ]
  },
  {
   "cell_type": "code",
   "execution_count": 11,
   "metadata": {},
   "outputs": [],
   "source": [
    "single_quoted_string = 'Hello, World!'\n",
    "double_quoted_string = \"Python Programming\"\n",
    "double_quoted_with_single_quote = \"It's raining outside.\"\n",
    "escaped_string = \"This is a newline\\nand this is a tab\\tand this is a backslash \\\\\"\n",
    "# print(escaped_string)"
   ]
  },
  {
   "cell_type": "markdown",
   "metadata": {},
   "source": [
    "## String Indexing\n",
    "1. Strings are indexed from $0$ to $n-1$, where $n$ is the length of the string.\n",
    "2. Individual characters can be accessed using square brackets $[ ]$.\n",
    "3. Negative indexing is also supported, where -1 refers to the last character, -2 refers to the second last character, and so on.\n",
    "4. Slicing allows you to extract substrings from a string using the syntax $[start:end:step]$"
   ]
  },
  {
   "cell_type": "code",
   "execution_count": 1,
   "metadata": {},
   "outputs": [
    {
     "name": "stdout",
     "output_type": "stream",
     "text": [
      "P\n",
      "n\n",
      "yth\n",
      "Pto\n"
     ]
    }
   ],
   "source": [
    "s = \"Python\"\n",
    "print(s[0])     # Output: 'P'\n",
    "print(s[-1])    # Output: 'n'\n",
    "print(s[1:4])   # Output: 'yth'\n",
    "print(s[::2])   # Output: 'Pto'"
   ]
  },
  {
   "cell_type": "code",
   "execution_count": 2,
   "metadata": {},
   "outputs": [
    {
     "name": "stdout",
     "output_type": "stream",
     "text": [
      "Substring 1: Programming\n",
      "Substring 2: Python\n",
      "Substring 3: Programmin\n",
      "Substring 4: Python Prog\n",
      "Substring 5: Python\n",
      "Substring 6: Programming\n",
      "Substring 7: Pto rgamn\n",
      "Substring 8: gnimmargorP nohtyP\n"
     ]
    }
   ],
   "source": [
    "# Original string\n",
    "original_string = \"Python Programming\"\n",
    "\n",
    "# Positive indexing (forward slicing)\n",
    "substring_1 = original_string[7:18]   # \"Programming\"\n",
    "substring_2 = original_string[0:6]    # \"Python\"\n",
    "\n",
    "# Negative indexing (backward slicing)\n",
    "substring_3 = original_string[-11:-1] # \"Programmin\"\n",
    "substring_4 = original_string[-18:-7] # \"Python\"\n",
    "\n",
    "# Omitted start or end index\n",
    "substring_5 = original_string[:6]     # \"Python\"\n",
    "substring_6 = original_string[7:]     # \"Programming\"\n",
    "\n",
    "# Using step value\n",
    "substring_7 = original_string[::2]    # \"Pto rgamn\"\n",
    "substring_8 = original_string[::-1]   # \"gnimmargorP nohtyP\"\n",
    "\n",
    "# Print results\n",
    "print(\"Substring 1:\", substring_1)\n",
    "print(\"Substring 2:\", substring_2)\n",
    "print(\"Substring 3:\", substring_3)\n",
    "print(\"Substring 4:\", substring_4)\n",
    "print(\"Substring 5:\", substring_5)\n",
    "print(\"Substring 6:\", substring_6)\n",
    "print(\"Substring 7:\", substring_7)\n",
    "print(\"Substring 8:\", substring_8)\n"
   ]
  },
  {
   "cell_type": "markdown",
   "metadata": {},
   "source": [
    "## String storage\n",
    "in Python, the characters of a string are stored in contiguous memory locations. This means that the characters of a string are stored one after another in memory, allowing for efficient access to individual characters and substrings. This contiguous storage allows Python to perform operations on strings quickly and efficiently."
   ]
  },
  {
   "cell_type": "code",
   "execution_count": 7,
   "metadata": {},
   "outputs": [
    {
     "name": "stdout",
     "output_type": "stream",
     "text": [
      "140705710221168\n",
      "140705643831344\n",
      "140705710221168\n",
      "140705710629488\n"
     ]
    }
   ],
   "source": [
    "\n",
    "a = \"hello\"\n",
    "b = 'h'\n",
    "print(id(b))\n",
    "print(id(a))\n",
    "print(id(a[0]))\n",
    "print(id(a[1]))\n"
   ]
  },
  {
   "cell_type": "code",
   "execution_count": 8,
   "metadata": {},
   "outputs": [
    {
     "name": "stdout",
     "output_type": "stream",
     "text": [
      "Identity of my_string: 140705643831344\n",
      "Character: h Identity: 140705710221168\n",
      "Character: e Identity: 140705710629488\n",
      "Character: l Identity: 140705710182448\n",
      "Character: l Identity: 140705710182448\n",
      "Character: o Identity: 140705710852272\n"
     ]
    }
   ],
   "source": [
    "# Define a string\n",
    "my_string = \"hello\"\n",
    "\n",
    "# Print the identity of the string object\n",
    "print(\"Identity of my_string:\", id(my_string))\n",
    "\n",
    "# Iterate through each character in the string\n",
    "for char in my_string:\n",
    "    # Print the character and its identity\n",
    "    print(\"Character:\", char, \"Identity:\", id(char))\n"
   ]
  },
  {
   "cell_type": "markdown",
   "metadata": {},
   "source": [
    "## String Immutability\n",
    "It is important to note that strings have an important property known as immutability. This means that once a string is created, the elements within it can not be changed or replaced. Immuntiblity is a concept seen in other data types.\n",
    "Immutability means that the data cannot mutate, in other words, the data cannot change. However, a new 'data object' can be created using the current object."
   ]
  },
  {
   "cell_type": "code",
   "execution_count": 13,
   "metadata": {},
   "outputs": [
    {
     "ename": "TypeError",
     "evalue": "'str' object does not support item assignment",
     "output_type": "error",
     "traceback": [
      "\u001b[0;31m---------------------------------------------------------------------------\u001b[0m",
      "\u001b[0;31mTypeError\u001b[0m                                 Traceback (most recent call last)",
      "\u001b[0;32m/tmp/ipykernel_1518/753657922.py\u001b[0m in \u001b[0;36m<module>\u001b[0;34m\u001b[0m\n\u001b[1;32m      3\u001b[0m \u001b[0;34m\u001b[0m\u001b[0m\n\u001b[1;32m      4\u001b[0m \u001b[0;31m# Attempt to change the first character\u001b[0m\u001b[0;34m\u001b[0m\u001b[0;34m\u001b[0m\u001b[0;34m\u001b[0m\u001b[0m\n\u001b[0;32m----> 5\u001b[0;31m \u001b[0moriginal_string\u001b[0m\u001b[0;34m[\u001b[0m\u001b[0;36m0\u001b[0m\u001b[0;34m]\u001b[0m \u001b[0;34m=\u001b[0m \u001b[0;34m'J'\u001b[0m  \u001b[0;31m# This will raise an error\u001b[0m\u001b[0;34m\u001b[0m\u001b[0;34m\u001b[0m\u001b[0m\n\u001b[0m\u001b[1;32m      6\u001b[0m \u001b[0;34m\u001b[0m\u001b[0m\n\u001b[1;32m      7\u001b[0m \u001b[0;31m# Concatenating a new string\u001b[0m\u001b[0;34m\u001b[0m\u001b[0;34m\u001b[0m\u001b[0;34m\u001b[0m\u001b[0m\n",
      "\u001b[0;31mTypeError\u001b[0m: 'str' object does not support item assignment"
     ]
    }
   ],
   "source": [
    "# Original string\n",
    "original_string = \"Python\"\n",
    "\n",
    "# Attempt to change the first character\n",
    "original_string[0] = 'J'  # This will raise an error\n",
    "\n",
    "# Concatenating a new string\n",
    "new_string = original_string + \" is awesome!\"\n",
    "\n",
    "# Printing original and new strings\n",
    "print(\"Original string:\", original_string)\n",
    "print(\"New string:\", new_string)\n"
   ]
  },
  {
   "cell_type": "markdown",
   "metadata": {},
   "source": [
    "## String Concatenation"
   ]
  },
  {
   "cell_type": "code",
   "execution_count": 14,
   "metadata": {},
   "outputs": [
    {
     "name": "stdout",
     "output_type": "stream",
     "text": [
      "Concatenated string: Hello World\n",
      "Repeated string: Python Python Python \n"
     ]
    }
   ],
   "source": [
    "# String concatenation\n",
    "str1 = \"Hello\"\n",
    "str2 = \"World\"\n",
    "concatenated_string = str1 + \" \" + str2\n",
    "print(\"Concatenated string:\", concatenated_string)\n",
    "\n",
    "# String repetition\n",
    "original_str = \"Python \"\n",
    "repeated_str = original_str * 3\n",
    "print(\"Repeated string:\", repeated_str)\n"
   ]
  },
  {
   "cell_type": "markdown",
   "metadata": {},
   "source": [
    "## String Methods"
   ]
  },
  {
   "cell_type": "code",
   "execution_count": 16,
   "metadata": {},
   "outputs": [
    {
     "name": "stdout",
     "output_type": "stream",
     "text": [
      "Capitalized: Hello, world!\n",
      "Uppercase: HELLO, WORLD!\n",
      "Lowercase: hello, world!\n",
      "Occurrences of 'l': 3\n",
      "Starts with 'hello': True\n",
      "Ends with 'world!': True\n",
      "Index of 'world!': 7\n",
      "Replaced: hi, world!\n",
      "Split: ['hello', ' world!']\n",
      "Stripped: hello, world!\n",
      "Is alphanumeric: False\n",
      "Is alphabetic: False\n",
      "Is digit: False\n"
     ]
    }
   ],
   "source": [
    "# Original string\n",
    "my_string = \"hello, world!\"\n",
    "\n",
    "# Methods applicable to strings\n",
    "# 1. Capitalize the first letter\n",
    "print(\"Capitalized:\", my_string.capitalize())\n",
    "\n",
    "# 2. Convert to uppercase\n",
    "print(\"Uppercase:\", my_string.upper())\n",
    "\n",
    "# 3. Convert to lowercase\n",
    "print(\"Lowercase:\", my_string.lower())\n",
    "\n",
    "# 4. Count occurrences of a substring\n",
    "print(\"Occurrences of 'l':\", my_string.count('l'))\n",
    "\n",
    "# 5. Check if string starts with a particular substring\n",
    "print(\"Starts with 'hello':\", my_string.startswith('hello'))\n",
    "\n",
    "# 6. Check if string ends with a particular substring\n",
    "print(\"Ends with 'world!':\", my_string.endswith('world!'))\n",
    "\n",
    "# 7. Find the index of a substring\n",
    "print(\"Index of 'world!':\", my_string.find('world!'))\n",
    "\n",
    "# 8. Replace occurrences of a substring\n",
    "print(\"Replaced:\", my_string.replace('hello', 'hi'))\n",
    "\n",
    "# 9. Split the string into a list of substrings\n",
    "print(\"Split:\", my_string.split(','))\n",
    "\n",
    "# 10. Strip leading and trailing whitespace\n",
    "my_string_with_whitespace = \"  hello, world!  \"\n",
    "print(\"Stripped:\", my_string_with_whitespace.strip())\n",
    "\n",
    "# 11. Check if all characters are alphanumeric\n",
    "print(\"Is alphanumeric:\", my_string.isalnum())\n",
    "\n",
    "# 12. Check if all characters are alphabetic\n",
    "print(\"Is alphabetic:\", my_string.isalpha())\n",
    "\n",
    "# 13. Check if all characters are digits\n",
    "print(\"Is digit:\", my_string.isdigit())\n"
   ]
  },
  {
   "cell_type": "markdown",
   "metadata": {},
   "source": [
    "# DNA Sequence Handling"
   ]
  },
  {
   "cell_type": "code",
   "execution_count": 18,
   "metadata": {},
   "outputs": [],
   "source": [
    "# assign DNA sequence to a variable\n",
    "DNA_seq = \"ATGTACTC ATTCGTTTCG GAAGAGACAG GTACGTTAAT AGTTAATAGC GTACTTCTTT TTCTTGCTTT CGTGGTATTC TTGCTAGTTA CACTAGCCAT CCTTACTGCG CTTCGATTGT GTGCGTACTG CTGCAATATT GTTAACGTGA GTCTTGTAAA ACCTTCTTTT TACGTTTACT CTCGTGTTAA AAATCTGAAT TCTTCTAGAG TTCCTGATCT TCTGGTCTAA\""
   ]
  },
  {
   "cell_type": "code",
   "execution_count": null,
   "metadata": {},
   "outputs": [],
   "source": []
  }
 ],
 "metadata": {
  "kernelspec": {
   "display_name": "Python 3",
   "language": "python",
   "name": "python3"
  },
  "language_info": {
   "codemirror_mode": {
    "name": "ipython",
    "version": 3
   },
   "file_extension": ".py",
   "mimetype": "text/x-python",
   "name": "python",
   "nbconvert_exporter": "python",
   "pygments_lexer": "ipython3",
   "version": "3.8.10"
  }
 },
 "nbformat": 4,
 "nbformat_minor": 2
}
